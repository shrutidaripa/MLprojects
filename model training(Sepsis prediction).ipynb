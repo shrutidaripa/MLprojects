{
 "cells": [
  {
   "cell_type": "code",
   "execution_count": 1,
   "id": "bb6dacbf",
   "metadata": {},
   "outputs": [
    {
     "name": "stderr",
     "output_type": "stream",
     "text": [
      "C:\\Users\\KIIT0001\\anaconda3\\Lib\\site-packages\\pandas\\core\\arrays\\masked.py:60: UserWarning: Pandas requires version '1.3.6' or newer of 'bottleneck' (version '1.3.5' currently installed).\n",
      "  from pandas.core import (\n"
     ]
    }
   ],
   "source": [
    "import pandas as pd\n",
    "model_csv_path = r'.cleanData.csv'"
   ]
  },
  {
   "cell_type": "code",
   "execution_count": 2,
   "id": "96576bb2",
   "metadata": {},
   "outputs": [],
   "source": [
    "import numpy as np\n",
    "from matplotlib import pyplot as plt\n",
    "import seaborn as sns"
   ]
  },
  {
   "cell_type": "code",
   "execution_count": 3,
   "id": "b9dd7b2e",
   "metadata": {},
   "outputs": [],
   "source": [
    "dataSepsis = pd.read_csv(model_csv_path, sep=\",\")"
   ]
  },
  {
   "cell_type": "code",
   "execution_count": 4,
   "id": "d0a46ec1",
   "metadata": {},
   "outputs": [],
   "source": [
    "Sepsis_counts = dataSepsis['SepsisLabel_max'].value_counts()\n",
    "# it counts the number of instances for each unique value in the \"SepsisLabel_max\" column. This helps us understand how many individuals have or don't have sepsis.\n",
    "# Calculate the percentage of each target class\n",
    "# Gender_percentages = Gender_counts / len(data) * 100\n",
    "# Explanation: In this line, we are calculating the percentage of each gender category within your dataset.\n",
    "# we divide the counts in \"Gender_counts\" by the total number of instances in the \"data\" DataFrame (given by len(data)) and then multiply by 100 to express the result as a percentage."
   ]
  },
  {
   "cell_type": "code",
   "execution_count": 5,
   "id": "ccdcd1d7",
   "metadata": {},
   "outputs": [],
   "source": [
    "Sepsis_percentages = Sepsis_counts / len(dataSepsis) * 100\n",
    "# Explanation: Similarly, this line calculates the percentage of instances with and without sepsis in our dataset.\n",
    "#It divides the counts in \"Sepsis_counts\" by the total number of instances in the \"data\"\n",
    "# DataFrame and expresses the result as a percentage."
   ]
  },
  {
   "cell_type": "code",
   "execution_count": 6,
   "id": "c91413d2",
   "metadata": {},
   "outputs": [
    {
     "name": "stdout",
     "output_type": "stream",
     "text": [
      "SepsisLabel_max\n",
      "0    92.731059\n",
      "1     7.268941\n",
      "Name: count, dtype: float64\n"
     ]
    }
   ],
   "source": [
    "print(Sepsis_percentages)"
   ]
  },
  {
   "cell_type": "code",
   "execution_count": 7,
   "id": "2d022b98",
   "metadata": {},
   "outputs": [
    {
     "data": {
      "image/png": "[encoded data removed]",
      "text/plain": [
       "<Figure size 640x480 with 1 Axes>"
      ]
     },
     "metadata": {},
     "output_type": "display_data"
    }
   ],
   "source": [
    "# Create a bar chart\n",
    "fig, ax = plt.subplots()\n",
    "# Explanation: In this line, we are creating a new figure (\"fig\") and a set of axes (\"ax\") for our plot.\n",
    "# This is the starting point for creating our bar chart.\n",
    "ax.bar(Sepsis_percentages.index, Sepsis_percentages.values, tick_label=Sepsis_percentages.index, width=0.4, align='center', alpha=0.8)\n",
    "# Explanation: Here, we are using the \"ax.bar\" function to create a bar chart.we provide it with the x-values \n",
    "#(Sepsis label categories),\n",
    "# y-values (Sepsis percentages), and other parameters to define how the bars should appear in the chart.\n",
    "# These parameters include the width of the bars, alignment, and transparency (alpha).\n",
    "ax.set_ylabel('Percentage')\n",
    "# Explanation: This line sets the label for the y-axis of the bar chart. It's important for labeling and understanding the data being visualized.\n",
    "ax.set_title('Sepsis Label Distribution')\n",
    "# Explanation: Here, we are adding a title to the bar chart to describe what the chart represents.In this case,\n",
    "#it's the distribution of sepsis labels.\n",
    "#Show the plot\n",
    "plt.show()\n",
    "# Explanation: Finally, this line displays the bar chart you've created using the \"plt.show()\" function.\n",
    "# It shows the chart in your Jupyter Notebook, allowing you to visualize the distribution of sepsis labels  in our dataset."
   ]
  },
  {
   "cell_type": "code",
   "execution_count": 8,
   "id": "6e2f824c",
   "metadata": {},
   "outputs": [
    {
     "name": "stdout",
     "output_type": "stream",
     "text": [
      "Index(['Patient_ID', 'Hour_mean', 'HR_mean', 'HR_min', 'HR_max', 'HR_std',\n",
      "       'O2Sat_mean', 'O2Sat_min', 'O2Sat_max', 'O2Sat_std', 'Temp_mean',\n",
      "       'Temp_min', 'Temp_max', 'Temp_std', 'MAP_mean', 'MAP_min', 'MAP_max',\n",
      "       'MAP_std', 'Resp_mean', 'Resp_min', 'Resp_max', 'Resp_std',\n",
      "       'PaCO2_mean', 'PaCO2_min', 'PaCO2_max', 'PaCO2_std', 'FiO2_mean',\n",
      "       'FiO2_min', 'FiO2_max', 'FiO2_std', 'SaO2_mean', 'SaO2_min', 'SaO2_max',\n",
      "       'SaO2_std', 'AST_mean', 'AST_min', 'AST_max', 'AST_std', 'BUN_mean',\n",
      "       'BUN_min', 'BUN_max', 'BUN_std', 'Creatinine_mean', 'Creatinine_min',\n",
      "       'Creatinine_max', 'Creatinine_std', 'Glucose_mean', 'Glucose_min',\n",
      "       'Glucose_max', 'Glucose_std', 'Hgb_mean', 'Hgb_min', 'Hgb_max',\n",
      "       'Hgb_std', 'WBC_mean', 'WBC_min', 'WBC_max', 'WBC_std',\n",
      "       'Platelets_mean', 'Platelets_min', 'Platelets_max', 'Platelets_std',\n",
      "       'Bilirubin_total_mean', 'Bilirubin_total_min', 'Bilirubin_total_max',\n",
      "       'Bilirubin_total_std', 'Age_mean', 'Gender_first', 'HospAdmTime_first',\n",
      "       'ICULOS_max', 'SepsisLabel_max', 'Unit_first'],\n",
      "      dtype='object')\n"
     ]
    }
   ],
   "source": [
    "print (dataSepsis.columns)"
   ]
  },
  {
   "cell_type": "code",
   "execution_count": 9,
   "id": "c8084836",
   "metadata": {},
   "outputs": [
    {
     "name": "stdout",
     "output_type": "stream",
     "text": [
      "number of sepsis label 1 is 2932\n",
      "while number of sepsis label 0 is 37404\n"
     ]
    }
   ],
   "source": [
    "data = pd.read_csv(model_csv_path, sep=\",\")\n",
    "# Explanation: In this line, we are using the pandas library to read data from a CSV file located at r'.cleanData.csv'\n",
    "# we are storing this data in a variable called \"data.\"\n",
    "# The sep=\",\" parameter indicates that the values in the CSV file are separated by commas.\n",
    "\n",
    "majority_class = data[data['SepsisLabel_max'] == 0]\n",
    "minority_class = data[data['SepsisLabel_max'] == 1]\n",
    "# Explanation: After reading the data, we are splitting it into two classes based on the values in the\n",
    "# \"SepsisLabel_max\" column. The \"majority_class\" variable contains instances where the \"SepsisLabel_max\"\n",
    "# is 0, and the \"minority_class\" variable contains instances where the \"SepsisLabel_max\" is 1.\n",
    "\n",
    "print('number of sepsis label 1 is {}'.format(len(minority_class)))\n",
    "print('while number of sepsis label 0 is {}'.format(len(majority_class)))\n",
    "# Explanation: we are printing the number of instances in each class. The first print statement tells\n",
    "# how many instances have a \"SepsisLabel_max\" of 1, and the second print statement tells how many\n",
    "# instances have a \"SepsisLabel_max\" of 0. This is important for understanding the class distribution in our dataset,\n",
    "#which can be crucial for machine learning tasks, especially in cases of imbalanced datasets."
   ]
  },
  {
   "cell_type": "code",
   "execution_count": 10,
   "id": "8fc9c2ea",
   "metadata": {},
   "outputs": [],
   "source": [
    "# Undersampling\n",
    "\n",
    "majority_class_subset = majority_class.sample(n=2*len(minority_class))\n",
    "# Explanation: In this line, we are creating a subset of the majority class (the class with more instances)\n",
    "# from our data. we use the .sample() function to randomly select a number of instances.\n",
    "# The n=2*len(minority_class) parameter determines that want to sample a number of instances twice the size of the minority class.\n",
    "\n",
    "data = pd.concat([majority_class_subset, minority_class])\n",
    "# Explanation: Here, we are concatenating (combining) the \"majority_class_subset\" and \"minority_class\"\n",
    "# dataframes to create a single \"data\" dataframe. This operation brings together the sampled majority class\n",
    "# instances and all the minority class instances, allowing us to create a more balanced dataset.\n",
    "# Balancing the dataset is often done to prevent class imbalance issues when training machine learning models."
   ]
  },
  {
   "cell_type": "code",
   "execution_count": 11,
   "id": "c18dc0ac",
   "metadata": {},
   "outputs": [
    {
     "name": "stdout",
     "output_type": "stream",
     "text": [
      "SepsisLabel_max\n",
      "0    66.666667\n",
      "1    33.333333\n",
      "Name: count, dtype: float64\n"
     ]
    }
   ],
   "source": [
    "Sepsis_counts = data['SepsisLabel_max'].value_counts()\n",
    "# Explanation: In this line, we are counting the number of instances for each unique value in the\n",
    "# \"SepsisLabel_max\" column of the \"data\" DataFrame. This is a way to determine the distribution of sepsis\n",
    "# labels in your updated dataset, which now includes a balanced number of instances from the majority and minority classes.\n",
    "\n",
    "Sepsis_percentages = Sepsis_counts / len(data) * 100\n",
    "# Explanation: Similar to previous lines, here we are calculating the percentages of each sepsis label in our dataset.\n",
    "#we divide the counts in \"Sepsis_counts\" by the total number of instances in the \"data\" \n",
    "#DataFrame and multiply by 100 to express the result as a percentage.\n",
    "\n",
    "print(Sepsis_percentages)\n",
    "# Explanation: This line prints the percentages of each sepsis label to the console.\n",
    "# These percentages reflect the distribution of sepsis labels in our updated dataset, which we balanced\n",
    "# by oversampling the minority class. Balancing the dataset can be important for training machine learning models,\n",
    "#  as it prevents one class from dominating the training process."
   ]
  },
  {
   "cell_type": "code",
   "execution_count": 12,
   "id": "221d418b",
   "metadata": {},
   "outputs": [
    {
     "data": {
      "image/png": "[encoded data removed]",
      "text/plain": [
       "<Figure size 640x480 with 1 Axes>"
      ]
     },
     "metadata": {},
     "output_type": "display_data"
    }
   ],
   "source": [
    "plt.bar(Sepsis_counts.index, Sepsis_percentages)\n",
    "# Explanation: In this line, we are using the \"plt.bar\" function to create a bar chart.\n",
    "# we are providing it with the x-values (Sepsis label categories) and y-values (Sepsis percentages) to\n",
    "# represent the distribution of sepsis labels after undersampling the dataset.\n",
    "# This chart visually displays the percentage of each sepsis label in the balanced dataset.\n",
    "plt.title(\"Percentage of Sepsis Labels after Undersampling\")\n",
    "# Explanation: Here, we are adding a title to the bar chart to describe what the chart represents.\n",
    "# In this case, it's the percentage of sepsis labels in the dataset after undersampling.\n",
    "plt.xlabel(\"Sepsis Label\")\n",
    "# Explanation: This line sets the label for the x-axis of the bar chart, which specifies the type of data\n",
    "# or categories being represented.\n",
    "plt.ylabel(\"Percentage\")\n",
    "# Explanation: Similarly, this line sets the label for the y-axis of the bar chart.\n",
    "# It provides information about the measurement represented on the y-axis, which, in this case, is the percentage.\n",
    "plt.show()\n",
    "# Explanation: Finally, this line displays the bar chart you've created using the \"plt.show()\" function.\n",
    "# It shows the chart in your Jupyter Notebook, allowing you to visualize the percentage distribution of\n",
    "# sepsis labels after undersampling the dataset. This type of visualization is helpful for understanding\n",
    "# the class balance in our dataset, which is crucial for machine learning tasks."
   ]
  },
  {
   "cell_type": "code",
   "execution_count": 13,
   "id": "44cab25d",
   "metadata": {},
   "outputs": [
    {
     "name": "stdout",
     "output_type": "stream",
     "text": [
      "Index(['Patient_ID', 'Hour_mean', 'HR_mean', 'HR_min', 'HR_max', 'HR_std',\n",
      "       'O2Sat_mean', 'O2Sat_min', 'O2Sat_max', 'O2Sat_std', 'Temp_mean',\n",
      "       'Temp_min', 'Temp_max', 'Temp_std', 'MAP_mean', 'MAP_min', 'MAP_max',\n",
      "       'MAP_std', 'Resp_mean', 'Resp_min', 'Resp_max', 'Resp_std',\n",
      "       'PaCO2_mean', 'PaCO2_min', 'PaCO2_max', 'PaCO2_std', 'FiO2_mean',\n",
      "       'FiO2_min', 'FiO2_max', 'FiO2_std', 'SaO2_mean', 'SaO2_min', 'SaO2_max',\n",
      "       'SaO2_std', 'AST_mean', 'AST_min', 'AST_max', 'AST_std', 'BUN_mean',\n",
      "       'BUN_min', 'BUN_max', 'BUN_std', 'Creatinine_mean', 'Creatinine_min',\n",
      "       'Creatinine_max', 'Creatinine_std', 'Glucose_mean', 'Glucose_min',\n",
      "       'Glucose_max', 'Glucose_std', 'Hgb_mean', 'Hgb_min', 'Hgb_max',\n",
      "       'Hgb_std', 'WBC_mean', 'WBC_min', 'WBC_max', 'WBC_std',\n",
      "       'Platelets_mean', 'Platelets_min', 'Platelets_max', 'Platelets_std',\n",
      "       'Bilirubin_total_mean', 'Bilirubin_total_min', 'Bilirubin_total_max',\n",
      "       'Bilirubin_total_std', 'Age_mean', 'Gender_first', 'HospAdmTime_first',\n",
      "       'ICULOS_max', 'SepsisLabel_max', 'Unit_first'],\n",
      "      dtype='object')\n"
     ]
    }
   ],
   "source": [
    "print (dataSepsis.columns)"
   ]
  },
  {
   "cell_type": "markdown",
   "id": "fa8aa816",
   "metadata": {},
   "source": [
    "LOGISTIC REGRESSION"
   ]
  },
  {
   "cell_type": "code",
   "execution_count": 14,
   "id": "3c4ec2fa",
   "metadata": {},
   "outputs": [
    {
     "name": "stdout",
     "output_type": "stream",
     "text": [
      "Best hyperparameters: {'C': 10}\n",
      "Best score: 0.7366497461928934\n",
      "Accuracy on validation set: 0.7256493506493507\n",
      "              precision    recall  f1-score   support\n",
      "\n",
      "           0       0.72      0.92      0.81       782\n",
      "           1       0.74      0.38      0.50       450\n",
      "\n",
      "    accuracy                           0.73      1232\n",
      "   macro avg       0.73      0.65      0.66      1232\n",
      "weighted avg       0.73      0.73      0.70      1232\n",
      "\n",
      "Accuracy on testing set: 0.7415687760515347\n",
      "              precision    recall  f1-score   support\n",
      "\n",
      "           0       0.75      0.92      0.83      1759\n",
      "           1       0.71      0.38      0.49       880\n",
      "\n",
      "    accuracy                           0.74      2639\n",
      "   macro avg       0.73      0.65      0.66      2639\n",
      "weighted avg       0.74      0.74      0.72      2639\n",
      "\n"
     ]
    }
   ],
   "source": [
    "from sklearn.model_selection import train_test_split, cross_val_score\n",
    "from sklearn.linear_model import LogisticRegression\n",
    "from sklearn.metrics import accuracy_score, classification_report\n",
    "from sklearn.model_selection import GridSearchCV\n",
    "import warnings\n",
    "warnings.filterwarnings(\"ignore\")\n",
    "# This part imports libraries for working with machine learning, including logistic regression, data splitting, cross-validation, and model evaluation.\n",
    "# It also suppresses warning messages to keep the output clean.\n",
    "# Separate features and target variables\n",
    "X = data.drop('SepsisLabel_max', axis=1)\n",
    "y = data['SepsisLabel_max']\n",
    "# Here, we are defining the feature variables (X) and the target variable (y) for our machine learning model. \n",
    "#we use the \"SepsisLabel_max\" column as the target variable, and all other columns in our\n",
    "# dataset are used as features.\n",
    "X_trainval, X_test, y_trainval, y_test = train_test_split(X, y, test_size=0.3, random_state=42)\n",
    "X_train, X_val, y_train, y_val = train_test_split(X_trainval, y_trainval, test_size=0.2, random_state=42)\n",
    "# split our data into training, validation, and testing sets using the train_test_split function.\n",
    "# The data is divided such that 70% is used for training, 20% for validation, and 10% for testing.\n",
    "# The random_state parameter ensures reproducibility.\n",
    "\n",
    "# Define the logistic regression model\n",
    "clf = LogisticRegression(random_state=42)\n",
    "\n",
    "# Define the hyperparameter grid to search over\n",
    "param_grid = {'C': [0.01, 0.1, 1, 10, 100]}\n",
    "\n",
    "# Perform grid search using 5-fold cross-validation on the training set\n",
    "grid_search = GridSearchCV(clf, param_grid, cv=5)\n",
    "grid_search.fit(X_train, y_train)\n",
    "# we use grid search to find the best hyperparameters for the logistic regression model.\n",
    "# The grid search involves five-fold cross-validation to evaluate different hyperparameter combinations.\n",
    "\n",
    "# Print the best hyperparameters and score\n",
    "print('Best hyperparameters:', grid_search.best_params_)\n",
    "print('Best score:', grid_search.best_score_)\n",
    "\n",
    "# Train the model on the training set with the best hyperparameters\n",
    "clf_best = LogisticRegression(C=grid_search.best_params_['C'], random_state=42)\n",
    "clf_best.fit(X_train, y_train)\n",
    "y_pred_val = clf_best.predict(X_val)\n",
    "LR_acc_val = accuracy_score(y_val, y_pred_val)\n",
    "print('Accuracy on validation set:', LR_acc_val)\n",
    "print(classification_report(y_val, y_pred_val))\n",
    "# Explaination :  make predictions on the validation set and evaluate the model's accuracy and generate a classification report.\n",
    "\n",
    "# Evaluate the model performance on the testing set\n",
    "y_pred_test = clf_best.predict(X_test)\n",
    "LR_acc_test = accuracy_score(y_test, y_pred_test)\n",
    "print('Accuracy on testing set:', LR_acc_test)\n",
    "print(classification_report(y_test, y_pred_test))"
   ]
  },
  {
   "cell_type": "markdown",
   "id": "31a91531",
   "metadata": {},
   "source": [
    "NAIVE BAYES"
   ]
  },
  {
   "cell_type": "code",
   "execution_count": 15,
   "id": "206d3a1f",
   "metadata": {},
   "outputs": [
    {
     "name": "stdout",
     "output_type": "stream",
     "text": [
      "Best hyperparameters: {'var_smoothing': 1e-09}\n",
      "Best score: 0.7624365482233504\n",
      "Validation Accuracy: 0.7613636363636364\n",
      "              precision    recall  f1-score   support\n",
      "\n",
      "           0       0.75      0.93      0.83       782\n",
      "           1       0.79      0.48      0.59       450\n",
      "\n",
      "    accuracy                           0.76      1232\n",
      "   macro avg       0.77      0.70      0.71      1232\n",
      "weighted avg       0.77      0.76      0.74      1232\n",
      "\n",
      "Testing Accuracy: 0.7552103069344449\n",
      "              precision    recall  f1-score   support\n",
      "\n",
      "           0       0.76      0.92      0.83      1759\n",
      "           1       0.73      0.42      0.54       880\n",
      "\n",
      "    accuracy                           0.76      2639\n",
      "   macro avg       0.75      0.67      0.68      2639\n",
      "weighted avg       0.75      0.76      0.73      2639\n",
      "\n"
     ]
    }
   ],
   "source": [
    "import pandas as pd\n",
    "from sklearn.model_selection import train_test_split\n",
    "from sklearn.naive_bayes import GaussianNB\n",
    "from sklearn.metrics import accuracy_score, classification_report\n",
    "from sklearn.model_selection import GridSearchCV\n",
    "\n",
    "# Define the Naive Bayes classifier\n",
    "clf = GaussianNB()\n",
    "\n",
    "# Define the hyperparameter grid to search over\n",
    "param_grid = {'var_smoothing': [1e-10, 1e-9, 1e-8]}\n",
    "\n",
    "# Perform grid search using 5-fold cross-validation\n",
    "grid_search = GridSearchCV(clf, param_grid, cv=5)\n",
    "grid_search.fit(X_train, y_train)\n",
    "\n",
    "# Print the best hyperparameters and score\n",
    "print('Best hyperparameters:', grid_search.best_params_)\n",
    "print('Best score:', grid_search.best_score_)\n",
    "\n",
    "# Train the model on the training data with the best hyperparameters\n",
    "clf_best = GaussianNB(var_smoothing=grid_search.best_params_['var_smoothing'])\n",
    "clf_best.fit(X_train, y_train)\n",
    "# Make predictions on the validation set\n",
    "y_pred_val = clf_best.predict(X_val)\n",
    "\n",
    "# Evaluate the model performance on the validation set\n",
    "NB_acc_val = accuracy_score(y_val, y_pred_val)\n",
    "\n",
    "# Make predictions on the testing data\n",
    "y_pred_test = clf_best.predict(X_test)\n",
    "\n",
    "# Evaluate the model performance on the testing set\n",
    "NB_acc_test = accuracy_score(y_test, y_pred_test)\n",
    "\n",
    "# Print the validation and testing accuracy and classification report\n",
    "print('Validation Accuracy:',NB_acc_val)\n",
    "print(classification_report(y_val, y_pred_val))\n",
    "\n",
    "print('Testing Accuracy:', NB_acc_test)\n",
    "print(classification_report(y_test, y_pred_test))\n"
   ]
  },
  {
   "cell_type": "markdown",
   "id": "7c6f0462",
   "metadata": {},
   "source": [
    "SUPPORT VECTOR MACHINE"
   ]
  },
  {
   "cell_type": "code",
   "execution_count": 16,
   "id": "539d9294",
   "metadata": {},
   "outputs": [
    {
     "name": "stdout",
     "output_type": "stream",
     "text": [
      "Validation Accuracy: 0.6347402597402597\n",
      "              precision    recall  f1-score   support\n",
      "\n",
      "           0       0.63      1.00      0.78       782\n",
      "           1       0.00      0.00      0.00       450\n",
      "\n",
      "    accuracy                           0.63      1232\n",
      "   macro avg       0.32      0.50      0.39      1232\n",
      "weighted avg       0.40      0.63      0.49      1232\n",
      "\n",
      "Testing Accuracy: 0.6665403561955286\n",
      "              precision    recall  f1-score   support\n",
      "\n",
      "           0       0.67      1.00      0.80      1759\n",
      "           1       0.00      0.00      0.00       880\n",
      "\n",
      "    accuracy                           0.67      2639\n",
      "   macro avg       0.33      0.50      0.40      2639\n",
      "weighted avg       0.44      0.67      0.53      2639\n",
      "\n"
     ]
    }
   ],
   "source": [
    "import pandas as pd\n",
    "from sklearn.svm import SVC\n",
    "from sklearn.metrics import accuracy_score, classification_report\n",
    "clf = SVC(kernel='rbf',C=5)\n",
    "clf.fit(X_train, y_train)\n",
    "y_pred = clf.predict(X_test)\n",
    "\n",
    "# Make predictions on the validation set\n",
    "y_pred_val = clf.predict(X_val)\n",
    "# Evaluate the model performance on the validation set\n",
    "SVM_acc_val = accuracy_score(y_val, y_pred_val)\n",
    "# Make predictions on the testing data\n",
    "y_pred_test = clf.predict(X_test)\n",
    "# Evaluate the model performance on the testing set\n",
    "SVM_acc_test = accuracy_score(y_test, y_pred_test)\n",
    "print('Validation Accuracy:', SVM_acc_val)\n",
    "print(classification_report(y_val, y_pred_val))\n",
    "\n",
    "print('Testing Accuracy:', SVM_acc_test)\n",
    "print(classification_report(y_test, y_pred_test))"
   ]
  },
  {
   "cell_type": "markdown",
   "id": "66c5c045",
   "metadata": {},
   "source": [
    "RANDOM FOREST"
   ]
  },
  {
   "cell_type": "code",
   "execution_count": 17,
   "id": "900a946a",
   "metadata": {},
   "outputs": [
    {
     "name": "stdout",
     "output_type": "stream",
     "text": [
      "Validation Accuracy: 0.8563311688311688\n",
      "              precision    recall  f1-score   support\n",
      "\n",
      "           0       0.84      0.96      0.89       782\n",
      "           1       0.90      0.68      0.78       450\n",
      "\n",
      "    accuracy                           0.86      1232\n",
      "   macro avg       0.87      0.82      0.84      1232\n",
      "weighted avg       0.86      0.86      0.85      1232\n",
      "\n",
      "Testing Accuracy: 0.8681318681318682\n",
      "              precision    recall  f1-score   support\n",
      "\n",
      "           0       0.86      0.96      0.91      1759\n",
      "           1       0.90      0.68      0.78       880\n",
      "\n",
      "    accuracy                           0.87      2639\n",
      "   macro avg       0.88      0.82      0.84      2639\n",
      "weighted avg       0.87      0.87      0.86      2639\n",
      "\n"
     ]
    }
   ],
   "source": [
    "import pandas as pd\n",
    "from sklearn.ensemble import RandomForestClassifier\n",
    "from sklearn.metrics import accuracy_score, classification_report\n",
    "from sklearn.model_selection import train_test_split\n",
    "\n",
    "# Train a Random Forest classifier on the training data\n",
    "rfc = RandomForestClassifier(n_estimators=100, max_depth=10, random_state=42)\n",
    "rfc.fit(X_train, y_train)\n",
    "\n",
    "# Make predictions on the validation set\n",
    "y_pred_val = rfc.predict(X_val)\n",
    "\n",
    "# Evaluate the model performance on the validation set\n",
    "RF_acc_val = accuracy_score(y_val, y_pred_val)\n",
    "print('Validation Accuracy:', RF_acc_val)\n",
    "print(classification_report(y_val, y_pred_val))\n",
    "\n",
    "# Make predictions on the testing set\n",
    "y_pred_test = rfc.predict(X_test)\n",
    "\n",
    "# Evaluate the model performance on the testing set\n",
    "RF_acc_test = accuracy_score(y_test, y_pred_test)\n",
    "print('Testing Accuracy:', RF_acc_test)\n",
    "print(classification_report(y_test, y_pred_test))"
   ]
  },
  {
   "cell_type": "code",
   "execution_count": 18,
   "id": "e042f6c1",
   "metadata": {},
   "outputs": [
    {
     "data": {
      "text/plain": [
       "Patient_ID           4925\n",
       "Hour_mean            4925\n",
       "HR_mean              4925\n",
       "HR_min               4925\n",
       "HR_max               4925\n",
       "                     ... \n",
       "Age_mean             4925\n",
       "Gender_first         4925\n",
       "HospAdmTime_first    4925\n",
       "ICULOS_max           4925\n",
       "Unit_first           4925\n",
       "Length: 71, dtype: int64"
      ]
     },
     "execution_count": 18,
     "metadata": {},
     "output_type": "execute_result"
    }
   ],
   "source": [
    "X_train.count()"
   ]
  },
  {
   "cell_type": "markdown",
   "id": "446d3064",
   "metadata": {},
   "source": [
    "COMPARISON OF ACCURACY"
   ]
  },
  {
   "cell_type": "code",
   "execution_count": 19,
   "id": "0006e2dc",
   "metadata": {},
   "outputs": [
    {
     "data": {
      "image/png": "[encoded data removed]",
      "text/plain": [
       "<Figure size 640x480 with 1 Axes>"
      ]
     },
     "metadata": {},
     "output_type": "display_data"
    }
   ],
   "source": [
    "classifiers = ['LogisticRegression', 'SVM', 'naive_bayes','RF']\n",
    "accuracies = [LR_acc_test, SVM_acc_test, NB_acc_test, RF_acc_test]\n",
    "\n",
    "plt.bar(classifiers, accuracies)\n",
    "plt.ylim([0,1])\n",
    "plt.ylabel('Accuracies')\n",
    "plt.title('Sepsis Prediction Accuracy for Different Classifiers')\n",
    "plt.show()"
   ]
  },
  {
   "cell_type": "code",
   "execution_count": 20,
   "id": "cb1ebd15",
   "metadata": {},
   "outputs": [
    {
     "data": {
      "image/png": "[encoded data removed]",
      "text/plain": [
       "<Figure size 640x480 with 1 Axes>"
      ]
     },
     "metadata": {},
     "output_type": "display_data"
    }
   ],
   "source": [
    "classifiers = ['LogisticRegression', 'SVM', 'naive_bayes','RF']\n",
    "accuracies = [LR_acc_val, SVM_acc_val, NB_acc_val, RF_acc_val]\n",
    "\n",
    "plt.bar(classifiers, accuracies)\n",
    "plt.ylim([0,1])\n",
    "plt.ylabel('Accuracies')\n",
    "plt.title('Sepsis Prediction Validation Accuracy for Different Classifiers')\n",
    "plt.show()"
   ]
  },
  {
   "cell_type": "code",
   "execution_count": 21,
   "id": "acf882c7",
   "metadata": {},
   "outputs": [],
   "source": [
    "#Save file for project development\n",
    "import pickle\n",
    "\n",
    "# dump information to that file\n",
    "pickle.dump(rfc, open('step2_output_model.pkl', 'wb'))"
   ]
  },
  {
   "cell_type": "code",
   "execution_count": 22,
   "id": "098ff81d",
   "metadata": {},
   "outputs": [
    {
     "name": "stdout",
     "output_type": "stream",
     "text": [
      "New Prediction: Sepsis\n"
     ]
    }
   ],
   "source": [
    "import pandas as pd\n",
    "import numpy as np\n",
    "import joblib  # or just import joblib if we are using a recent version\n",
    "\n",
    "model_path = 'step2_output_model.pkl'  # Update this path\n",
    "model = joblib.load(model_path)\n",
    "\n",
    "features_no_sepsis_new = [\n",
    "    3,  # Patient_ID (unique identifier)\n",
    "   36,\n",
    "    7.2,\n",
    "    0,\n",
    "    0.03,\n",
    "    17,\n",
    "    28,\n",
    "\n",
    "    3,  \n",
    "   36,\n",
    "    7.2,\n",
    "    0,\n",
    "    0.03,\n",
    "    17,\n",
    "    28,\n",
    "        3,  \n",
    "   36,\n",
    "    7.2,\n",
    "    0,\n",
    "    0.03,\n",
    "    17,\n",
    "    28,\n",
    "        3,  \n",
    "   36,\n",
    "    7.2,\n",
    "    0,\n",
    "    0.03,\n",
    "    17,\n",
    "    28,\n",
    "        3,  \n",
    "   36,\n",
    "    7.2,\n",
    "    0,\n",
    "    0.03,\n",
    "    17,\n",
    "    28,\n",
    "        3,  \n",
    "   36,\n",
    "    7.2,\n",
    "    0,\n",
    "    0.03,\n",
    "    17,\n",
    "    28,\n",
    "        3,  \n",
    "   36,\n",
    "    7.2,\n",
    "    0,\n",
    "    0.03,\n",
    "    17,\n",
    "    28,\n",
    "        3,  \n",
    "   36,\n",
    "    7.2,\n",
    "    0,\n",
    "    0.03,\n",
    "    17,\n",
    "    28,\n",
    "        3,  \n",
    "   36,\n",
    "    7.2,\n",
    "    0,\n",
    "    0.03,\n",
    "    17,\n",
    "    28,\n",
    "        3,  \n",
    "   36,\n",
    "    7.2,\n",
    "    0,\n",
    "    0.03,\n",
    "    17,\n",
    "    28,\n",
    "    0\n",
    "]\n",
    "\n",
    "# Assuming the necessary imports and model loading have been done\n",
    "feature_vector_no_sepsis_new = np.array(features_no_sepsis_new).reshape(1, -1)\n",
    "\n",
    "# Make a prediction using the new feature vector\n",
    "prediction_new = model.predict(feature_vector_no_sepsis_new)\n",
    "\n",
    "# Interpret the new prediction\n",
    "prediction_result_new = \"Sepsis\" if prediction_new[0] == 1 else \"No Sepsis\"\n",
    "print(f\"New Prediction: {prediction_result_new}\")"
   ]
  },
  {
   "cell_type": "code",
   "execution_count": null,
   "id": "abcabf1a",
   "metadata": {},
   "outputs": [],
   "source": []
  }
 ],
 "metadata": {
  "kernelspec": {
   "display_name": "Python 3 (ipykernel)",
   "language": "python",
   "name": "python3"
  },
  "language_info": {
   "codemirror_mode": {
    "name": "ipython",
    "version": 3
   },
   "file_extension": ".py",
   "mimetype": "text/x-python",
   "name": "python",
   "nbconvert_exporter": "python",
   "pygments_lexer": "ipython3",
   "version": "3.11.5"
  }
 },
 "nbformat": 4,
 "nbformat_minor": 5
}
